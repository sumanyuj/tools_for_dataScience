{
  "metadata": {
    "language_info": {
      "codemirror_mode": {
        "name": "python",
        "version": 3
      },
      "file_extension": ".py",
      "mimetype": "text/x-python",
      "name": "python",
      "nbconvert_exporter": "python",
      "pygments_lexer": "ipython3",
      "version": "3.8"
    },
    "kernelspec": {
      "name": "python",
      "display_name": "Python (Pyodide)",
      "language": "python"
    }
  },
  "nbformat_minor": 4,
  "nbformat": 4,
  "cells": [
    {
      "cell_type": "markdown",
      "source": "# Data Science Tools and Ecosystem",
      "metadata": {}
    },
    {
      "cell_type": "markdown",
      "source": "Within this notebook, therein lies a basic summary of Data Science tools and its ecosystem.",
      "metadata": {}
    },
    {
      "cell_type": "markdown",
      "source": "Popular languages for data science:\n\n1. Python\n2. R\n3. Julia",
      "metadata": {}
    },
    {
      "cell_type": "markdown",
      "source": "Some of the common libraries used for Data Science:\n\n1. Pandas\n2. Matplotlib\n3. Seaborn",
      "metadata": {}
    },
    {
      "cell_type": "markdown",
      "source": "| Data Science Tools| \n| ----------- | \n| Jupyter Notebooks|\n| R Studio| \n| Apache Spark | ",
      "metadata": {}
    },
    {
      "cell_type": "markdown",
      "source": "### Here are a couple of examples of arithetic expressions in Python:",
      "metadata": {}
    },
    {
      "cell_type": "code",
      "source": "# Order of operations below states that multiplication comes before addition\n(3*4)+5",
      "metadata": {
        "trusted": true
      },
      "execution_count": 1,
      "outputs": [
        {
          "execution_count": 1,
          "output_type": "execute_result",
          "data": {
            "text/plain": "17"
          },
          "metadata": {}
        }
      ]
    },
    {
      "cell_type": "code",
      "source": "# Below, we will covert 200 mins to hours by dividing by 60\nstr(200/60) + \" hours\"",
      "metadata": {
        "trusted": true
      },
      "execution_count": 5,
      "outputs": [
        {
          "execution_count": 5,
          "output_type": "execute_result",
          "data": {
            "text/plain": "'3.3333333333333335 hours'"
          },
          "metadata": {}
        }
      ]
    },
    {
      "cell_type": "markdown",
      "source": "**Objectives:**\n- List popular languages for data science\n- list common libraries \n- showcase python expressions within cells",
      "metadata": {}
    },
    {
      "cell_type": "markdown",
      "source": "## Author\nSumanyu Janapareddy",
      "metadata": {}
    }
  ]
}